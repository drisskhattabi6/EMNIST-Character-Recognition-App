{
 "cells": [
  {
   "cell_type": "markdown",
   "id": "0a2cf5c5-0521-488d-b8de-77539581ea7b",
   "metadata": {},
   "source": [
    "# Build the Tkinter Interface\n",
    "### Create a canvas for drawing and integrate the CNN for predictions."
   ]
  },
  {
   "cell_type": "code",
   "execution_count": 22,
   "id": "7ef5e816-2688-481c-a692-affb38f1a329",
   "metadata": {},
   "outputs": [],
   "source": [
    "import tkinter as tk\n",
    "from PIL import Image, ImageDraw, ImageOps\n",
    "import numpy as np\n",
    "import torch\n",
    "import torch.nn as nn\n",
    "from torchvision import transforms\n",
    "import torchvision.transforms.functional as F"
   ]
  },
  {
   "cell_type": "code",
   "execution_count": 12,
   "id": "330b7148-10c1-4a38-be4d-3b62ca1cfaaa",
   "metadata": {
    "tags": []
   },
   "outputs": [],
   "source": [
    "# CNN Model\n",
    "class CNN(nn.Module):\n",
    "    def __init__(self):\n",
    "        super(CNN, self).__init__()\n",
    "        self.conv1 = nn.Conv2d(1, 32, kernel_size=3)\n",
    "        self.conv2 = nn.Conv2d(32, 64, kernel_size=3)\n",
    "        self.fc1 = nn.Linear(64 * 5 * 5, 128)\n",
    "        self.fc2 = nn.Linear(128, 36)  # 36 classes (0-9, A-Z)\n",
    "\n",
    "    def forward(self, x):\n",
    "        x = nn.ReLU()(self.conv1(x))\n",
    "        x = nn.MaxPool2d(2)(x)\n",
    "        x = nn.ReLU()(self.conv2(x))\n",
    "        x = nn.MaxPool2d(2)(x)\n",
    "        x = x.view(-1, 64 * 5 * 5)\n",
    "        x = nn.ReLU()(self.fc1(x))\n",
    "        x = self.fc2(x)\n",
    "        return x"
   ]
  },
  {
   "cell_type": "code",
   "execution_count": 13,
   "id": "3450f566-2c71-4d4e-9e32-2ed0fa0611ed",
   "metadata": {},
   "outputs": [
    {
     "data": {
      "text/plain": [
       "CNN(\n",
       "  (conv1): Conv2d(1, 32, kernel_size=(3, 3), stride=(1, 1))\n",
       "  (conv2): Conv2d(32, 64, kernel_size=(3, 3), stride=(1, 1))\n",
       "  (fc1): Linear(in_features=1600, out_features=128, bias=True)\n",
       "  (fc2): Linear(in_features=128, out_features=36, bias=True)\n",
       ")"
      ]
     },
     "execution_count": 13,
     "metadata": {},
     "output_type": "execute_result"
    }
   ],
   "source": [
    "# Load the trained model\n",
    "model = CNN()\n",
    "model.load_state_dict(torch.load(\"emnist_cnn.pth\"))\n",
    "model.eval()"
   ]
  },
  {
   "cell_type": "code",
   "execution_count": 14,
   "id": "8255b124-0398-4819-8e17-4d67456499fa",
   "metadata": {},
   "outputs": [],
   "source": [
    "# Label map (same as training)\n",
    "labels_map = {i: chr(48 + i) if i < 10 else chr(65 + i - 10) for i in range(36)}  # 0-9, A-Z"
   ]
  },
  {
   "cell_type": "code",
   "execution_count": 34,
   "id": "68ebc2d6-14e4-41d1-a1a9-7d3c5b628754",
   "metadata": {},
   "outputs": [],
   "source": [
    "class DrawingApp:\n",
    "    def __init__(self, root):\n",
    "        self.root = root\n",
    "        self.root.title(\"Character Prediction\")\n",
    "\n",
    "        self.canvas = tk.Canvas(root, width=200, height=200, bg='white')\n",
    "        self.canvas.pack(pady=10)\n",
    "\n",
    "        button_frame = tk.Frame(root)\n",
    "        button_frame.pack(pady=5)\n",
    "\n",
    "        self.predict_btn = tk.Button(button_frame, text=\"🔍 Predict\", command=self.predict,\n",
    "                                     bg=\"#4CAF50\", fg=\"white\", font=(\"Arial\", 12), padx=10, pady=5)\n",
    "        self.predict_btn.grid(row=0, column=0, padx=5)\n",
    "\n",
    "        self.clear_btn = tk.Button(button_frame, text=\"🧹 Clear\", command=self.clear_canvas,\n",
    "                                   bg=\"#f44336\", fg=\"white\", font=(\"Arial\", 12), padx=10, pady=5)\n",
    "        self.clear_btn.grid(row=0, column=1, padx=5)\n",
    "\n",
    "        self.result_label = tk.Label(root, text=\"Prediction: None\", font=(\"Arial\", 16, \"bold\"), fg=\"blue\")\n",
    "        self.result_label.pack(pady=10)\n",
    "\n",
    "        self.image = Image.new(\"L\", (200, 200), 255)\n",
    "        self.draw = ImageDraw.Draw(self.image)\n",
    "        self.canvas.bind(\"<B1-Motion>\", self.paint)\n",
    "\n",
    "    def paint(self, event):\n",
    "        x, y = event.x, event.y\n",
    "        radius = 8\n",
    "        self.canvas.create_oval(x - radius, y - radius, x + radius, y + radius, fill='black')\n",
    "        self.draw.ellipse([x - radius, y - radius, x + radius, y + radius], fill=0)\n",
    "\n",
    "    def clear_canvas(self):\n",
    "        self.canvas.delete(\"all\")\n",
    "        self.image = Image.new(\"L\", (200, 200), 255)\n",
    "        self.draw = ImageDraw.Draw(self.image)\n",
    "        self.result_label.config(text=\"Prediction: None\", fg=\"blue\")\n",
    "\n",
    "    def predict(self):\n",
    "        self.image.save(\"drawed-original.png\")\n",
    "\n",
    "        # Resize and invert for EMNIST\n",
    "        img_resized = self.image.resize((28, 28))\n",
    "        img_inverted = ImageOps.invert(img_resized)\n",
    "        img_inverted.save(\"drawed-processed.png\")\n",
    "\n",
    "        arr = torch.tensor(np.array(img_inverted), dtype=torch.float32)\n",
    "        img_tensor = arr.unsqueeze(0)  # [1, 28, 28]\n",
    "\n",
    "        # Apply horizontal flip and 90° rotation\n",
    "        img_tensor = F.rotate(F.hflip(img_tensor), 90)\n",
    "\n",
    "        # Add batch dimension\n",
    "        img_tensor = img_tensor.unsqueeze(0)  # [1, 1, 28, 28]\n",
    "\n",
    "        with torch.no_grad():\n",
    "            output = model(img_tensor)\n",
    "            prediction = output.argmax(dim=1).item()\n",
    "            label = labels_map[prediction]\n",
    "            print(f\"Predicted class: {prediction}, Label: {label}\")\n",
    "            self.result_label.config(text=f\"🧠 Prediction: {label}\", fg=\"green\")"
   ]
  },
  {
   "cell_type": "code",
   "execution_count": 35,
   "id": "5bb355e8-1444-4f19-bec0-50261a86fadd",
   "metadata": {},
   "outputs": [
    {
     "name": "stdout",
     "output_type": "stream",
     "text": [
      "Predicted class: 3, Label: 3\n",
      "Predicted class: 7, Label: 7\n",
      "Predicted class: 8, Label: 8\n",
      "Predicted class: 34, Label: Y\n",
      "Predicted class: 33, Label: X\n",
      "Predicted class: 0, Label: 0\n",
      "Predicted class: 0, Label: 0\n",
      "Predicted class: 26, Label: Q\n",
      "Predicted class: 3, Label: 3\n",
      "Predicted class: 35, Label: Z\n",
      "Predicted class: 22, Label: M\n",
      "Predicted class: 26, Label: Q\n",
      "Predicted class: 18, Label: I\n",
      "Predicted class: 18, Label: I\n",
      "Predicted class: 18, Label: I\n",
      "Predicted class: 4, Label: 4\n",
      "Predicted class: 15, Label: F\n",
      "Predicted class: 15, Label: F\n",
      "Predicted class: 12, Label: C\n",
      "Predicted class: 15, Label: F\n",
      "Predicted class: 29, Label: T\n",
      "Predicted class: 7, Label: 7\n",
      "Predicted class: 12, Label: C\n",
      "Predicted class: 6, Label: 6\n",
      "Predicted class: 13, Label: D\n",
      "Predicted class: 10, Label: A\n"
     ]
    }
   ],
   "source": [
    "# Launch the app\n",
    "root = tk.Tk()\n",
    "app = DrawingApp(root)\n",
    "root.mainloop()"
   ]
  }
 ],
 "metadata": {
  "kernelspec": {
   "display_name": "Python 3 (ipykernel)",
   "language": "python",
   "name": "python3"
  },
  "language_info": {
   "codemirror_mode": {
    "name": "ipython",
    "version": 3
   },
   "file_extension": ".py",
   "mimetype": "text/x-python",
   "name": "python",
   "nbconvert_exporter": "python",
   "pygments_lexer": "ipython3",
   "version": "3.12.4"
  }
 },
 "nbformat": 4,
 "nbformat_minor": 5
}
